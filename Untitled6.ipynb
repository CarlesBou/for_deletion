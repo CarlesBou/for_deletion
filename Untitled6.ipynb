{
  "nbformat": 4,
  "nbformat_minor": 0,
  "metadata": {
    "colab": {
      "provenance": [],
      "authorship_tag": "ABX9TyMWuSpTcT0DyA3Zq9Mtj7m7",
      "include_colab_link": true
    },
    "kernelspec": {
      "name": "python3",
      "display_name": "Python 3"
    },
    "language_info": {
      "name": "python"
    }
  },
  "cells": [
    {
      "cell_type": "markdown",
      "metadata": {
        "id": "view-in-github",
        "colab_type": "text"
      },
      "source": [
        "<a href=\"https://colab.research.google.com/github/CarlesBou/for_deletion/blob/main/Untitled6.ipynb\" target=\"_parent\"><img src=\"https://colab.research.google.com/assets/colab-badge.svg\" alt=\"Open In Colab\"/></a>"
      ]
    },
    {
      "cell_type": "code",
      "execution_count": 1,
      "metadata": {
        "id": "6YdODOMknpXJ"
      },
      "outputs": [],
      "source": [
        "from mlpxai.mymodel import MyModel"
      ]
    },
    {
      "cell_type": "code",
      "source": [
        "from mlpxai.kerasmlp import hard_sigmoid, hard_tanh"
      ],
      "metadata": {
        "id": "xTHOR7qLoa_U"
      },
      "execution_count": 3,
      "outputs": []
    },
    {
      "cell_type": "code",
      "source": [
        "from mlpxai.kerasmlp import run_layers, get_transposed_ext"
      ],
      "metadata": {
        "id": "m0-zhaoTpCJ8"
      },
      "execution_count": 4,
      "outputs": []
    },
    {
      "cell_type": "code",
      "source": [
        "from mlpxai.kerasmlp import print_model_structure"
      ],
      "metadata": {
        "id": "Jvuu06KcpEhk"
      },
      "execution_count": 5,
      "outputs": []
    },
    {
      "cell_type": "code",
      "source": [
        "import keras"
      ],
      "metadata": {
        "id": "pVtzUzmvpKSB"
      },
      "execution_count": 12,
      "outputs": []
    },
    {
      "cell_type": "code",
      "source": [
        "import tensorflow as tf\n",
        "from tensorflow.keras.utils import get_custom_objects"
      ],
      "metadata": {
        "id": "K0lxJHDtpioO"
      },
      "execution_count": 18,
      "outputs": []
    },
    {
      "cell_type": "code",
      "source": [
        "from sklearn.model_selection import train_test_split\n",
        "from sklearn.metrics import mean_squared_error\n",
        "from sklearn import metrics\n",
        "from sklearn.datasets import load_breast_cancer, load_wine\n",
        "from sklearn.datasets import make_regression, make_classification, make_friedman1\n",
        "from sklearn.preprocessing import MinMaxScaler"
      ],
      "metadata": {
        "id": "btWnB9zeqBKu"
      },
      "execution_count": 19,
      "outputs": []
    },
    {
      "cell_type": "code",
      "source": [
        "\n",
        "from tensorflow.keras.utils import to_categorical\n",
        "from tensorflow.keras.layers import Input, Dense, Dropout\n",
        "import tensorflow as tf\n",
        "\n",
        "from matplotlib import pyplot as plt\n",
        "\n",
        "import time\n",
        "import random\n",
        "import pandas as pd\n",
        "import numpy as np\n",
        "import sys\n",
        "import warnings\n",
        "warnings.simplefilter(action='ignore', category=FutureWarning)\n"
      ],
      "metadata": {
        "id": "tra1QNrAqE9v"
      },
      "execution_count": 21,
      "outputs": []
    },
    {
      "cell_type": "code",
      "source": [
        "def get_piro_contrib(x_sample, model, return_weighted=False):\n",
        "    if isinstance(x_sample, (pd.core.series.Series)):\n",
        "        x_sample = x_sample.to_numpy()\n",
        "\n",
        "    _, I_list, H_list, O_list = run_layers(x_sample, model, return_PI_list=True)\n",
        "\n",
        "    contrib = None\n",
        "    I_index = 0\n",
        "\n",
        "    for layer in model.layers:\n",
        "    # for l in range(len(model.layers) - 2, 0, -1):\n",
        "        if isinstance(layer, (InputLayer, Dropout)):\n",
        "            continue\n",
        "\n",
        "        w = layer.get_weights()[0]\n",
        "\n",
        "        if len(layer.get_weights()) > 1:\n",
        "            bias = layer.get_weights()[1]\n",
        "        else:\n",
        "            bias = None\n",
        "\n",
        "        w_T_ext = get_transposed_ext(w, bias)\n",
        "\n",
        "        if I_index == 0:\n",
        "            contrib = I_list[I_index] @ w_T_ext\n",
        "        else:\n",
        "            contrib =  I_list[I_index] @ w_T_ext @ contrib\n",
        "\n",
        "        I_index += 1\n",
        "\n",
        "    if return_weighted:\n",
        "        contrib[:, 1:] = contrib[:, 1:] * x_sample\n",
        "\n",
        "    return contrib[1:]\n"
      ],
      "metadata": {
        "id": "atRm6Mj8qR3W"
      },
      "execution_count": 22,
      "outputs": []
    },
    {
      "cell_type": "code",
      "source": [
        "test_size = 0.20\n",
        "validation_split = 0.10\n",
        "epochs = 30"
      ],
      "metadata": {
        "id": "nugLdH2eqoXo"
      },
      "execution_count": 23,
      "outputs": []
    },
    {
      "cell_type": "code",
      "source": [],
      "metadata": {
        "id": "goe9kya2qxQd"
      },
      "execution_count": null,
      "outputs": []
    }
  ]
}